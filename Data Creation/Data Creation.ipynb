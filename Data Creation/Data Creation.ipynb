{
 "cells": [
  {
   "cell_type": "code",
   "execution_count": 1,
   "id": "65f790fa",
   "metadata": {},
   "outputs": [
    {
     "name": "stdout",
     "output_type": "stream",
     "text": [
      "\n",
      "  There is a binary version available but the source version is later:\n",
      "         binary source needs_compilation\n",
      "readtext   0.80   0.81             FALSE\n",
      "\n"
     ]
    },
    {
     "name": "stderr",
     "output_type": "stream",
     "text": [
      "installing the source package 'readtext'\n",
      "\n",
      "Warning message in install.packages(\"readtext\"):\n",
      "\"installation of package 'readtext' had non-zero exit status\""
     ]
    }
   ],
   "source": [
    "install.packages(\"readtext\")"
   ]
  },
  {
   "cell_type": "code",
   "execution_count": 2,
   "id": "e163d232",
   "metadata": {},
   "outputs": [
    {
     "ename": "ERROR",
     "evalue": "Error in library(readtext): there is no package called 'readtext'\n",
     "output_type": "error",
     "traceback": [
      "Error in library(readtext): there is no package called 'readtext'\nTraceback:\n",
      "1. library(readtext)"
     ]
    }
   ],
   "source": [
    "library(readtext)"
   ]
  },
  {
   "cell_type": "code",
   "execution_count": null,
   "id": "a548777b",
   "metadata": {},
   "outputs": [],
   "source": [
    "rm(list = ls())\n",
    "\n",
    "# Working directory\n",
    "setwd('C:\\\\Users\\\\Yeswanth\\\\Bhavana\\\\Downloads\\\\Dataset Creation')\n",
    "\n",
    "# Path definition of the news archives\n",
    "path <- 'C:\\\\Users\\\\Yeswanth\\\\Bhavana\\\\Downloads\\\\bbc-fulltext\\\\bbc'\n",
    "\n",
    "# List with the 5 categories\n",
    "list_categories <- list.files(path=path)\n",
    "\n",
    "# Save to dataset the number of files in each category folder\n",
    "summary_categories <- data.frame(matrix(ncol = 2, nrow = 0))\n",
    "colnames(summary_categories) <- c('Category', 'Number_of_Files')\n",
    "\n",
    "for (category in list_categories){\n",
    "  category_path <- paste(path, category, sep='/')\n",
    "  n_files <- length(list.files(path=category_path))\n",
    "  \n",
    "  summary_categories = rbind(summary_categories, data.frame('Category'=category, 'Number_of_Files'=n_files))\n",
    "}\n",
    "\n",
    "summary_categories\n",
    "\n",
    "# Read every folder and create the final dataframe\n",
    "df_final <- data.frame(matrix(ncol = 3, nrow = 0))\n",
    "colnames(df_final) <- c('doc_id', 'text', 'category')\n",
    "\n",
    "for(category in list_categories){\n",
    "  category_path <- paste(path, category, sep='/')\n",
    "\n",
    "  df <- readtext(category_path)\n",
    "  df[\"category\"] = category\n",
    "  \n",
    "  df_final = rbind(df_final, df)\n",
    "}\n",
    "\n",
    "colnames(df_final) <- c('File_Name', 'Content', 'Category')\n",
    "\n",
    "df_final <-\n",
    "  df_final %>% \n",
    "  mutate(Complete_Filename = paste(File_Name, Category, sep='-'))\n",
    "\n",
    "# Save dataset: .rda\n",
    "save(df_final, file='Dataset.rda')\n",
    "\n",
    "# Load dataset\n",
    "load(file='Dataset.rda')\n",
    "\n",
    "# Write csv to import to python\n",
    "write.csv2(df_final,fileEncoding = 'utf8', \"/DataCreation/News_dataset.csv\", row.names = FALSE)"
   ]
  },
  {
   "cell_type": "code",
   "execution_count": null,
   "id": "6a428ff0",
   "metadata": {},
   "outputs": [],
   "source": []
  }
 ],
 "metadata": {
  "kernelspec": {
   "display_name": "R",
   "language": "R",
   "name": "ir"
  },
  "language_info": {
   "codemirror_mode": "r",
   "file_extension": ".r",
   "mimetype": "text/x-r-source",
   "name": "R",
   "pygments_lexer": "r",
   "version": "3.6.1"
  }
 },
 "nbformat": 4,
 "nbformat_minor": 5
}
